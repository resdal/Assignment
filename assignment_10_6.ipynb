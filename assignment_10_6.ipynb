{
  "nbformat": 4,
  "nbformat_minor": 0,
  "metadata": {
    "colab": {
      "name": "assignment 10/6.ipynb",
      "provenance": [],
      "collapsed_sections": [],
      "authorship_tag": "ABX9TyMuKTbCtjaI5+sOkAvRG5QT",
      "include_colab_link": true
    },
    "kernelspec": {
      "name": "python3",
      "display_name": "Python 3"
    },
    "language_info": {
      "name": "python"
    }
  },
  "cells": [
    {
      "cell_type": "markdown",
      "metadata": {
        "id": "view-in-github",
        "colab_type": "text"
      },
      "source": [
        "<a href=\"https://colab.research.google.com/github/resdal/Assignment/blob/main/assignment_10_6.ipynb\" target=\"_parent\"><img src=\"https://colab.research.google.com/assets/colab-badge.svg\" alt=\"Open In Colab\"/></a>"
      ]
    },
    {
      "cell_type": "markdown",
      "metadata": {
        "id": "uf9Rye0HzP8u"
      },
      "source": [
        "PRIME NUMBERS\n"
      ]
    },
    {
      "cell_type": "code",
      "metadata": {
        "colab": {
          "base_uri": "https://localhost:8080/"
        },
        "id": "TyL1OP6NLM7b",
        "outputId": "9794202d-f572-4e66-ea7b-ca8a92726f8d"
      },
      "source": [
        " # n = int(input(\"Enter a positive number to check if it is a Prime Number\"))\n",
        "n = 100\n",
        "prime_numbers = []\n",
        "for i in range(2, n+1):\n",
        "  counter = 0 \n",
        "  for j in range(2, i+1) :\n",
        "    if i % j == 0 :\n",
        "      counter += 1        \n",
        "  if (j != 0) and (j != 1) and (counter < 3):\n",
        "    prime_numbers.append(j)\n",
        "print(prime_numbers)\n",
        "    \n"
      ],
      "execution_count": 1,
      "outputs": [
        {
          "output_type": "stream",
          "name": "stdout",
          "text": [
            "[2, 3, 4, 5, 7, 9, 11, 13, 17, 19, 23, 25, 29, 31, 37, 41, 43, 47, 49, 53, 59, 61, 67, 71, 73, 79, 83, 89, 97]\n"
          ]
        }
      ]
    }
  ]
}