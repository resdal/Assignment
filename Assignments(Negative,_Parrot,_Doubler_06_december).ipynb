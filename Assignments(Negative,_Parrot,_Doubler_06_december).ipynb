{
  "nbformat": 4,
  "nbformat_minor": 0,
  "metadata": {
    "colab": {
      "name": "Assignments(Negative, Parrot, Doubler_06 december).ipynb",
      "provenance": [],
      "collapsed_sections": [],
      "authorship_tag": "ABX9TyOi+Gbh10XWaGNeyKLTwW4G",
      "include_colab_link": true
    },
    "kernelspec": {
      "name": "python3",
      "display_name": "Python 3"
    },
    "language_info": {
      "name": "python"
    }
  },
  "cells": [
    {
      "cell_type": "markdown",
      "metadata": {
        "id": "view-in-github",
        "colab_type": "text"
      },
      "source": [
        "<a href=\"https://colab.research.google.com/github/resdal/Assignment/blob/main/Assignments(Negative%2C_Parrot%2C_Doubler_06_december).ipynb\" target=\"_parent\"><img src=\"https://colab.research.google.com/assets/colab-badge.svg\" alt=\"Open In Colab\"/></a>"
      ]
    },
    {
      "cell_type": "markdown",
      "metadata": {
        "id": "BNjhW5U6c8cd"
      },
      "source": [
        "DOUBLER"
      ]
    },
    {
      "cell_type": "code",
      "metadata": {
        "id": "i2UrjzLvYVb3"
      },
      "source": [
        "def sum_double(x, y):\n",
        "    if x == y:\n",
        "       sum_double = (2 * (x + y))\n",
        "    else:\n",
        "       sum_double = (x + y)\n",
        "    return sum_double"
      ],
      "execution_count": null,
      "outputs": []
    },
    {
      "cell_type": "markdown",
      "metadata": {
        "id": "HBiCGL5ddCpq"
      },
      "source": [
        ""
      ]
    },
    {
      "cell_type": "markdown",
      "metadata": {
        "id": "PlHLYy77c2rD"
      },
      "source": [
        "PARROT TROUBLE\n"
      ]
    },
    {
      "cell_type": "code",
      "metadata": {
        "id": "gBx5BwG-c1N7"
      },
      "source": [
        "def parrot_trouble(talking, hour):\n",
        "    \n",
        "    if 6 <= hour <= 21:\n",
        "        hour = False\n",
        "    else:\n",
        "        hour = True\n",
        "    parrot_trouble = talking and hour    \n",
        "    return parrot_trouble"
      ],
      "execution_count": null,
      "outputs": []
    },
    {
      "cell_type": "markdown",
      "metadata": {
        "id": "zYxTS0q1hcFG"
      },
      "source": [
        "NEGATİVE MEANİNG"
      ]
    },
    {
      "cell_type": "code",
      "metadata": {
        "id": "tq3Zz-KRhep4",
        "colab": {
          "base_uri": "https://localhost:8080/"
        },
        "outputId": "899ad65a-f71a-4c60-d62d-2a6b7f467ad1"
      },
      "source": [
        "\n",
        "def not_string(word):   \n",
        "  if word.startswith(\"not\"):\n",
        "    return word\n",
        "  else:\n",
        "    return (\"not\" + \" \" + word)           \n",
        "  return not_string\n",
        "    \n",
        "print(not_string(\"agile\"))"
      ],
      "execution_count": null,
      "outputs": [
        {
          "output_type": "stream",
          "name": "stdout",
          "text": [
            "not agile\n"
          ]
        }
      ]
    },
    {
      "cell_type": "markdown",
      "source": [
        "MISSING CHAR\n"
      ],
      "metadata": {
        "id": "NG1L9OknyC2g"
      }
    },
    {
      "cell_type": "code",
      "source": [
        "def missing_char (word, n):\n",
        "  word = word[:n] + word[(n+1):]    \n",
        "  return word\n",
        "\n",
        "while True:\n",
        "  word = input(\"\")\n",
        "  n = int(input(\"\"))\n",
        "  if n <= (len(word)-1):\n",
        "    print(missing_char(word, n))\n",
        "    break\n",
        "  else:\n",
        "    print(\"The index your entered is bigger than the length of the word you entered.Please enter again.\")\n",
        "\n",
        "\n",
        "\n",
        "\n",
        "\n",
        "\n",
        "\n"
      ],
      "metadata": {
        "colab": {
          "base_uri": "https://localhost:8080/"
        },
        "id": "Jl5nWb6iyFPx",
        "outputId": "34fecb05-04f6-45bb-bcda-f3cd2395dbf1"
      },
      "execution_count": 1,
      "outputs": [
        {
          "output_type": "stream",
          "name": "stdout",
          "text": [
            "clarusway\n",
            "6\n",
            "clarusay\n"
          ]
        }
      ]
    },
    {
      "cell_type": "code",
      "source": [
        "def missing_char (word, n):\n",
        "  word = ''.join([word[i] for i in range(len(word)) if i != n]) \n",
        "  return word\n",
        "while True:\n",
        "  word = input(\"\")\n",
        "  n = int(input(\"\"))\n",
        "  if n <= (len(word)-1):\n",
        "    print(missing_char(word, n))\n",
        "    break\n",
        "  else:\n",
        "    print(\"The index your entered is bigger than the length of the word you entered.Please enter again.\")\n",
        "\n",
        "\n"
      ],
      "metadata": {
        "colab": {
          "base_uri": "https://localhost:8080/"
        },
        "id": "-88LPPZ18LtI",
        "outputId": "a73ae55c-ea2c-4888-de3b-2877cdb824a9"
      },
      "execution_count": null,
      "outputs": [
        {
          "output_type": "stream",
          "name": "stdout",
          "text": [
            "kitchen\n",
            "4\n",
            "kitcen\n"
          ]
        }
      ]
    },
    {
      "cell_type": "markdown",
      "source": [
        "FRONT-BACK CHAR"
      ],
      "metadata": {
        "id": "MCJL3vVrSqD6"
      }
    },
    {
      "cell_type": "code",
      "source": [
        "def front_back(word):\n",
        "  word = word[len(word)-1] + word[1:len(word)-1] + word[0]\n",
        "  return word\n",
        "word = input(\"\")  \n",
        "print(front_back(word))\n",
        "    \n",
        " "
      ],
      "metadata": {
        "id": "BcoXgMxYSpIg",
        "colab": {
          "base_uri": "https://localhost:8080/"
        },
        "outputId": "c39e84a6-3269-467a-a0c1-34faff1f7651"
      },
      "execution_count": 6,
      "outputs": [
        {
          "output_type": "stream",
          "name": "stdout",
          "text": [
            "resdal\n",
            "lesdar\n"
          ]
        }
      ]
    },
    {
      "cell_type": "markdown",
      "source": [
        "LETTERS COUNT"
      ],
      "metadata": {
        "id": "Ar7A__FDSucy"
      }
    },
    {
      "cell_type": "code",
      "source": [
        "letter = {}\n",
        "def letters_count(sentence):\n",
        "  for i in sentence:    \n",
        "    n = sentence.count(i)\n",
        "    letters.update({i : n})\n",
        "  return letters\n",
        "sentence = input(\"\")\n",
        "print(letters_count(sentence)) \n",
        "\n",
        "\n",
        "  \n"
      ],
      "metadata": {
        "colab": {
          "base_uri": "https://localhost:8080/"
        },
        "id": "963ZUE3CU8Em",
        "outputId": "a4a7cfc2-2382-40de-b519-ef7c24ee20f1"
      },
      "execution_count": 24,
      "outputs": [
        {
          "output_type": "stream",
          "name": "stdout",
          "text": [
            "good morning\n",
            "{'g': 2, 'o': 3, 'd': 1, ' ': 1, 'm': 1, 'r': 1, 'n': 2, 'i': 1}\n"
          ]
        }
      ]
    },
    {
      "cell_type": "code",
      "source": [
        ""
      ],
      "metadata": {
        "id": "ZA-WLsHvSx2W"
      },
      "execution_count": null,
      "outputs": []
    },
    {
      "cell_type": "markdown",
      "source": [
        "FIND MINIMUM"
      ],
      "metadata": {
        "id": "V29neoVTSy5M"
      }
    },
    {
      "cell_type": "code",
      "source": [
        "def my_min(*listem):\n",
        "  min = listem[0]\n",
        "  for i in listem:  \n",
        "    if i < min:\n",
        "      min = i\n",
        "  return min\n",
        "print(my_min(5,-6,-7))"
      ],
      "metadata": {
        "id": "SyQuxr7iS0pI",
        "colab": {
          "base_uri": "https://localhost:8080/"
        },
        "outputId": "421aceba-69c8-47e1-a79b-949555772acf"
      },
      "execution_count": 27,
      "outputs": [
        {
          "output_type": "stream",
          "name": "stdout",
          "text": [
            "-7\n"
          ]
        }
      ]
    }
  ]
}